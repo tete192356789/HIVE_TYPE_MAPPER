{
 "cells": [
  {
   "cell_type": "code",
   "execution_count": 10,
   "id": "378628cd-d6ca-4b60-8309-e0f4ce128bd0",
   "metadata": {},
   "outputs": [],
   "source": [
    "import re\n",
    "from sqlalchemy.types import *"
   ]
  },
  {
   "cell_type": "code",
   "execution_count": 52,
   "id": "fa66a6f1-f12b-4a5c-9ab9-545c17e8e41e",
   "metadata": {},
   "outputs": [],
   "source": [
    "pdi_parquet_mapping = {\n",
    "    \"sqlserver\" : {'bigint': 'Int64',\n",
    "     'int': 'Int32',\n",
    "     'smallint': 'Int32',\n",
    "     'tinyint': 'Int32',\n",
    "     'decimal': 'Decimal',\n",
    "     'numeric': 'Decimal',\n",
    "     'money': 'Decimal',\n",
    "     'smallmoney': 'Decimal',\n",
    "     'float': 'Double',\n",
    "     'real': 'Float',\n",
    "     'bit': 'Boolean',\n",
    "     'char': 'UTF8',\n",
    "     'varchar': 'UTF8',\n",
    "     'text': 'UTF8',\n",
    "     'nchar': 'UTF8',\n",
    "     'nvarchar': 'UTF8',\n",
    "     'ntext': 'UTF8',\n",
    "     'binary': 'Binary',\n",
    "     'varbinary': 'Binary',\n",
    "     'image': 'Binary',\n",
    "     'date': 'Date',\n",
    "     'datetime': 'Timestamp_millis',\n",
    "     'datetime2': 'Timestamp_millis',\n",
    "     'smalldatetime': 'Timestamp_millis',\n",
    "     'datetimeoffset': 'Timestamp_millis',\n",
    "     'time': 'Time_millis',\n",
    "     'uniqueidentifier': 'UTF8',\n",
    "     'xml': 'UTF8',\n",
    "     'sql_variant': 'UTF8',\n",
    "     'geometry': 'Binary',\n",
    "     'geography': 'Binary'}\n",
    "}"
   ]
  },
  {
   "cell_type": "code",
   "execution_count": 33,
   "id": "ba5d3ccb-c5ca-46c6-baf2-f58d5d8de38c",
   "metadata": {},
   "outputs": [],
   "source": [
    "hive_sc = {'test': [{'name': 'id',\n",
    "   'hive_type': 'INT',\n",
    "   'source_type': 'INT',\n",
    "   'comment': None}],\n",
    " 'employees': [{'name': 'employee_id',\n",
    "   'hive_type': 'INT',\n",
    "   'source_type': 'INT',\n",
    "   'comment': None},\n",
    "  {'name': 'first_name',\n",
    "   'hive_type': 'STRING',\n",
    "   'source_type': 'VARCHAR(50)',\n",
    "   'comment': None},\n",
    "  {'name': 'last_name',\n",
    "   'hive_type': 'STRING',\n",
    "   'source_type': 'VARCHAR(50)',\n",
    "   'comment': None},\n",
    "  {'name': 'email',\n",
    "   'hive_type': 'STRING',\n",
    "   'source_type': 'VARCHAR(100)',\n",
    "   'comment': None},\n",
    "  {'name': 'salary',\n",
    "   'hive_type': 'DECIMAL(10,2)',\n",
    "   'source_type': 'NUMERIC(10, 2)',\n",
    "   'comment': None},\n",
    "  {'name': 'hire_date',\n",
    "   'hive_type': 'DATE',\n",
    "   'source_type': 'DATE',\n",
    "   'comment': None}],\n",
    " 'testtest': [{'name': 'id',\n",
    "   'hive_type': 'INT',\n",
    "   'source_type': 'INT',\n",
    "   'comment': None},\n",
    "  {'name': 'ingyer',\n",
    "   'hive_type': 'DECIMAL(4,0)',\n",
    "   'source_type': 'NUMERIC(4, 0)',\n",
    "   'comment': None},\n",
    "  {'name': 'ingmth',\n",
    "   'hive_type': 'DECIMAL(2,0)',\n",
    "   'source_type': 'NUMERIC(2, 0)',\n",
    "   'comment': None},\n",
    "  {'name': 'ingday',\n",
    "   'hive_type': 'DECIMAL(2,0)',\n",
    "   'source_type': 'NUMERIC(2, 0)',\n",
    "   'comment': None}]}"
   ]
  },
  {
   "cell_type": "code",
   "execution_count": 5,
   "id": "ca06b94b-0233-47ae-a022-3e164bfe14fe",
   "metadata": {},
   "outputs": [],
   "source": [
    "base_header = \"Parquet Path\tName\tParquet Type\tPrecision\tScale\tDefault value\tNull\\n\"\n",
    "pattern = r\"\\w+\\(\\s*[^)]+,\\s*[^)]*\\)\"\n"
   ]
  },
  {
   "cell_type": "code",
   "execution_count": 23,
   "id": "2150ad3f-09c6-4fe5-a46a-7c35fc655156",
   "metadata": {},
   "outputs": [
    {
     "data": {
      "text/plain": [
       "'NUMERIC(4, 0)'"
      ]
     },
     "execution_count": 23,
     "metadata": {},
     "output_type": "execute_result"
    }
   ],
   "source": [
    "hive_sc['testtest'][1]['source_type']"
   ]
  },
  {
   "cell_type": "code",
   "execution_count": 53,
   "id": "85c92e9f-ecf4-48a9-9e54-a474980fa148",
   "metadata": {},
   "outputs": [],
   "source": [
    "script = base_header\n",
    "for col in hive_sc['testtest']:\n",
    "    match = re.match(pattern,col['hive_type'])\n",
    "    row = f\"{col['name']}\\t{col['name']}\\t\"\n",
    "    if match:\n",
    "        splited = match.group().split('(')\n",
    "        base = splited[0].lower()\n",
    "        precision = splited[1].split(',')[0]\n",
    "        scale = splited[1].split(',')[1].split(')')[0]\n",
    "        row += f\"{pdi_parquet_mapping[base]}\\t{precision}\\t{scale}\\t\\tYes\\n\"\n",
    "    else:\n",
    "        row += f\"{pdi_parquet_mapping[col['source_type'].lower()]}\\t\\t\\t\\tYes\\n\"\n",
    "    script += row    \n",
    "    "
   ]
  },
  {
   "cell_type": "code",
   "execution_count": 54,
   "id": "ae7e1746-f04b-4596-9cb9-58366f64bbb6",
   "metadata": {},
   "outputs": [
    {
     "name": "stdout",
     "output_type": "stream",
     "text": [
      "Parquet Path\tName\tParquet Type\tPrecision\tScale\tDefault value\tNull\n",
      "id\tid\tInt32\t\t\t\tYes\n",
      "ingyer\tingyer\tDecimal\t4\t0\t\tYes\n",
      "ingmth\tingmth\tDecimal\t2\t0\t\tYes\n",
      "ingday\tingday\tDecimal\t2\t0\t\tYes\n",
      "\n"
     ]
    }
   ],
   "source": [
    "print(script)"
   ]
  },
  {
   "cell_type": "code",
   "execution_count": null,
   "id": "7d356747-04f9-4c99-a823-903e60b79622",
   "metadata": {},
   "outputs": [],
   "source": []
  }
 ],
 "metadata": {
  "kernelspec": {
   "display_name": "Python 3 (ipykernel)",
   "language": "python",
   "name": "python3"
  },
  "language_info": {
   "codemirror_mode": {
    "name": "ipython",
    "version": 3
   },
   "file_extension": ".py",
   "mimetype": "text/x-python",
   "name": "python",
   "nbconvert_exporter": "python",
   "pygments_lexer": "ipython3",
   "version": "3.12.4"
  }
 },
 "nbformat": 4,
 "nbformat_minor": 5
}
